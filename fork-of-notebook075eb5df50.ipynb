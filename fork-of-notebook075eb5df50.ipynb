{
 "cells": [
  {
   "cell_type": "code",
   "execution_count": 1,
   "id": "2c31aa24",
   "metadata": {
    "_cell_guid": "b1076dfc-b9ad-4769-8c92-a6c4dae69d19",
    "_uuid": "8f2839f25d086af736a60e9eeb907d3b93b6e0e5",
    "execution": {
     "iopub.execute_input": "2025-01-24T17:01:50.268055Z",
     "iopub.status.busy": "2025-01-24T17:01:50.267716Z",
     "iopub.status.idle": "2025-01-24T17:01:51.176273Z",
     "shell.execute_reply": "2025-01-24T17:01:51.175198Z"
    },
    "papermill": {
     "duration": 0.915686,
     "end_time": "2025-01-24T17:01:51.178014",
     "exception": false,
     "start_time": "2025-01-24T17:01:50.262328",
     "status": "completed"
    },
    "tags": []
   },
   "outputs": [
    {
     "name": "stdout",
     "output_type": "stream",
     "text": [
      "/kaggle/input/Predict-the-Customer-Satisfaction-CSE-22/sample_submission.csv\n",
      "/kaggle/input/Predict-the-Customer-Satisfaction-CSE-22/train_dataset.csv\n",
      "/kaggle/input/Predict-the-Customer-Satisfaction-CSE-22/test_dataset.csv\n"
     ]
    }
   ],
   "source": [
    "# This Python 3 environment comes with many helpful analytics libraries installed\n",
    "# It is defined by the kaggle/python Docker image: https://github.com/kaggle/docker-python\n",
    "# For example, here's several helpful packages to load\n",
    "\n",
    "import numpy as np # linear algebra\n",
    "import pandas as pd # data processing, CSV file I/O (e.g. pd.read_csv)\n",
    "\n",
    "# Input data files are available in the read-only \"../input/\" directory\n",
    "# For example, running this (by clicking run or pressing Shift+Enter) will list all files under the input directory\n",
    "\n",
    "import os\n",
    "for dirname, _, filenames in os.walk('/kaggle/input'):\n",
    "    for filename in filenames:\n",
    "        print(os.path.join(dirname, filename))\n",
    "\n",
    "# You can write up to 20GB to the current directory (/kaggle/working/) that gets preserved as output when you create a version using \"Save & Run All\" \n",
    "# You can also write temporary files to /kaggle/temp/, but they won't be saved outside of the current session"
   ]
  },
  {
   "cell_type": "code",
   "execution_count": 2,
   "id": "0807aebe",
   "metadata": {
    "execution": {
     "iopub.execute_input": "2025-01-24T17:01:51.188133Z",
     "iopub.status.busy": "2025-01-24T17:01:51.187691Z",
     "iopub.status.idle": "2025-01-24T17:01:53.682564Z",
     "shell.execute_reply": "2025-01-24T17:01:53.681642Z"
    },
    "papermill": {
     "duration": 2.501702,
     "end_time": "2025-01-24T17:01:53.684276",
     "exception": false,
     "start_time": "2025-01-24T17:01:51.182574",
     "status": "completed"
    },
    "tags": []
   },
   "outputs": [],
   "source": [
    "# Import necessary libraries\n",
    "import pandas as pd\n",
    "import numpy as np\n",
    "import matplotlib.pyplot as plt \n",
    "import seaborn as sns\n",
    "from sklearn.ensemble import RandomForestClassifier\n",
    "from sklearn.preprocessing import LabelEncoder, StandardScaler\n",
    "from sklearn.metrics import accuracy_score\n",
    "from xgboost import XGBClassifier"
   ]
  },
  {
   "cell_type": "code",
   "execution_count": 3,
   "id": "150d6b38",
   "metadata": {
    "execution": {
     "iopub.execute_input": "2025-01-24T17:01:53.693018Z",
     "iopub.status.busy": "2025-01-24T17:01:53.692529Z",
     "iopub.status.idle": "2025-01-24T17:01:56.722197Z",
     "shell.execute_reply": "2025-01-24T17:01:56.721005Z"
    },
    "papermill": {
     "duration": 3.036022,
     "end_time": "2025-01-24T17:01:56.724235",
     "exception": false,
     "start_time": "2025-01-24T17:01:53.688213",
     "status": "completed"
    },
    "tags": []
   },
   "outputs": [],
   "source": [
    "train_df = pd.read_csv('/kaggle/input/Predict-the-Customer-Satisfaction-CSE-22/train_dataset.csv')\n",
    "test_df = pd.read_csv('/kaggle/input/Predict-the-Customer-Satisfaction-CSE-22/test_dataset.csv')"
   ]
  },
  {
   "cell_type": "code",
   "execution_count": 4,
   "id": "44e154e8",
   "metadata": {
    "execution": {
     "iopub.execute_input": "2025-01-24T17:01:56.733056Z",
     "iopub.status.busy": "2025-01-24T17:01:56.732709Z",
     "iopub.status.idle": "2025-01-24T17:01:56.777938Z",
     "shell.execute_reply": "2025-01-24T17:01:56.776945Z"
    },
    "papermill": {
     "duration": 0.051764,
     "end_time": "2025-01-24T17:01:56.779907",
     "exception": false,
     "start_time": "2025-01-24T17:01:56.728143",
     "status": "completed"
    },
    "tags": []
   },
   "outputs": [],
   "source": [
    "# Handling missing values using recommended assignment approach\n",
    "train_df['loyalty_tier'] = train_df['loyalty_tier'].fillna(train_df['loyalty_tier'].mode()[0])\n",
    "test_df['loyalty_tier'] = test_df['loyalty_tier'].fillna(test_df['loyalty_tier'].mode()[0])\n",
    "train_df['Received_tier_discount_percentage'] = train_df['Received_tier_discount_percentage'].fillna(\n",
    "    train_df['Received_tier_discount_percentage'].median()\n",
    ")\n",
    "test_df['Received_tier_discount_percentage'] = test_df['Received_tier_discount_percentage'].fillna(\n",
    "    test_df['Received_tier_discount_percentage'].median()\n",
    ")\n",
    "\n",
    "train_df['Received_card_discount_percentage'] = train_df['Received_card_discount_percentage'].fillna(\n",
    "    train_df['Received_card_discount_percentage'].median()\n",
    ")\n",
    "test_df['Received_card_discount_percentage'] = test_df['Received_card_discount_percentage'].fillna(\n",
    "    test_df['Received_card_discount_percentage'].median()\n",
    ")\n",
    "\n",
    "\n",
    "\n"
   ]
  },
  {
   "cell_type": "code",
   "execution_count": 5,
   "id": "1de38407",
   "metadata": {
    "execution": {
     "iopub.execute_input": "2025-01-24T17:01:56.788692Z",
     "iopub.status.busy": "2025-01-24T17:01:56.788310Z",
     "iopub.status.idle": "2025-01-24T17:01:56.843341Z",
     "shell.execute_reply": "2025-01-24T17:01:56.842210Z"
    },
    "papermill": {
     "duration": 0.061468,
     "end_time": "2025-01-24T17:01:56.845380",
     "exception": false,
     "start_time": "2025-01-24T17:01:56.783912",
     "status": "completed"
    },
    "tags": []
   },
   "outputs": [],
   "source": [
    "# Encode categorical variables\n",
    "# Encode Gender column (M: 1, F: 0, O: 2)\n",
    "train_df['Gender'] = train_df['Gender'].map({'M': 1, 'F': 0, 'O': 2})\n",
    "test_df['Gender'] = test_df['Gender'].map({'M': 1, 'F': 0, 'O': 2})\n",
    "\n",
    "# Encode loyalty program membership (YES: 1, NO: 0)\n",
    "train_df['Is_current_loyalty_program_member'] = train_df['Is_current_loyalty_program_member'].map({'YES': 1, 'NO': 0})\n",
    "test_df['Is_current_loyalty_program_member'] = test_df['Is_current_loyalty_program_member'].map({'YES': 1, 'NO': 0})\n"
   ]
  },
  {
   "cell_type": "code",
   "execution_count": 6,
   "id": "620b4703",
   "metadata": {
    "execution": {
     "iopub.execute_input": "2025-01-24T17:01:56.854523Z",
     "iopub.status.busy": "2025-01-24T17:01:56.854045Z",
     "iopub.status.idle": "2025-01-24T17:01:57.509594Z",
     "shell.execute_reply": "2025-01-24T17:01:57.508479Z"
    },
    "papermill": {
     "duration": 0.66218,
     "end_time": "2025-01-24T17:01:57.511608",
     "exception": false,
     "start_time": "2025-01-24T17:01:56.849428",
     "status": "completed"
    },
    "tags": []
   },
   "outputs": [],
   "source": [
    "# Encode target variable 'customer_experience'\n",
    "label_encoder = LabelEncoder()\n",
    "train_df['customer_experience'] = label_encoder.fit_transform(train_df['customer_experience'])\n",
    "\n",
    "# Convert date columns to datetime and extract year, month, day\n",
    "date_columns = ['Date_Registered', 'payment_datetime', 'purchased_datetime', \n",
    "                'released_date', 'estimated_delivery_date', 'received_date']\n",
    "\n",
    "for col in date_columns:\n",
    "    train_df[col] = pd.to_datetime(train_df[col], errors='coerce')\n",
    "    test_df[col] = pd.to_datetime(test_df[col], errors='coerce')\n",
    "    \n",
    "    train_df[f'{col}_year'] = train_df[col].dt.year\n",
    "    train_df[f'{col}_month'] = train_df[col].dt.month\n",
    "    train_df[f'{col}_day'] = train_df[col].dt.day\n",
    "\n",
    "    test_df[f'{col}_year'] = test_df[col].dt.year\n",
    "    test_df[f'{col}_month'] = test_df[col].dt.month\n",
    "    test_df[f'{col}_day'] = test_df[col].dt.day"
   ]
  },
  {
   "cell_type": "code",
   "execution_count": 7,
   "id": "24dec527",
   "metadata": {
    "execution": {
     "iopub.execute_input": "2025-01-24T17:01:57.520334Z",
     "iopub.status.busy": "2025-01-24T17:01:57.519988Z",
     "iopub.status.idle": "2025-01-24T17:01:57.657391Z",
     "shell.execute_reply": "2025-01-24T17:01:57.656310Z"
    },
    "papermill": {
     "duration": 0.143734,
     "end_time": "2025-01-24T17:01:57.659254",
     "exception": false,
     "start_time": "2025-01-24T17:01:57.515520",
     "status": "completed"
    },
    "tags": []
   },
   "outputs": [],
   "source": [
    "# Drop original date columns\n",
    "train_df.drop(columns=date_columns, inplace=True)\n",
    "test_df.drop(columns=date_columns, inplace=True)\n",
    "\n",
    "# Standardize the 'final_payment' column\n",
    "scaler = StandardScaler()\n",
    "train_df[['final_payment']] = scaler.fit_transform(train_df[['final_payment']])\n",
    "test_df[['final_payment']] = scaler.transform(test_df[['final_payment']])"
   ]
  },
  {
   "cell_type": "code",
   "execution_count": 8,
   "id": "0ee59488",
   "metadata": {
    "execution": {
     "iopub.execute_input": "2025-01-24T17:01:57.669472Z",
     "iopub.status.busy": "2025-01-24T17:01:57.669152Z",
     "iopub.status.idle": "2025-01-24T17:01:57.736771Z",
     "shell.execute_reply": "2025-01-24T17:01:57.735933Z"
    },
    "papermill": {
     "duration": 0.074576,
     "end_time": "2025-01-24T17:01:57.738561",
     "exception": false,
     "start_time": "2025-01-24T17:01:57.663985",
     "status": "completed"
    },
    "tags": []
   },
   "outputs": [],
   "source": [
    "# Drop unnecessary columns\n",
    "columns_to_drop = ['user_id', 'transaction_id', 'order_id', 'tracking_number']\n",
    "train_df.drop(columns=columns_to_drop, errors='ignore', inplace=True)\n",
    "test_df.drop(columns=columns_to_drop, errors='ignore', inplace=True)"
   ]
  },
  {
   "cell_type": "code",
   "execution_count": 9,
   "id": "7354c818",
   "metadata": {
    "execution": {
     "iopub.execute_input": "2025-01-24T17:01:57.747077Z",
     "iopub.status.busy": "2025-01-24T17:01:57.746723Z",
     "iopub.status.idle": "2025-01-24T17:01:57.970542Z",
     "shell.execute_reply": "2025-01-24T17:01:57.969438Z"
    },
    "papermill": {
     "duration": 0.229994,
     "end_time": "2025-01-24T17:01:57.972302",
     "exception": false,
     "start_time": "2025-01-24T17:01:57.742308",
     "status": "completed"
    },
    "tags": []
   },
   "outputs": [],
   "source": [
    "# One-hot encode categorical columns\n",
    "categorical_columns = ['product_category', 'payment_method', 'shipping_method', 'purchase_medium']\n",
    "train_df = pd.get_dummies(train_df, columns=categorical_columns, drop_first=True)\n",
    "test_df = pd.get_dummies(test_df, columns=categorical_columns, drop_first=True)\n"
   ]
  },
  {
   "cell_type": "code",
   "execution_count": 10,
   "id": "724f019d",
   "metadata": {
    "execution": {
     "iopub.execute_input": "2025-01-24T17:01:57.981154Z",
     "iopub.status.busy": "2025-01-24T17:01:57.980831Z",
     "iopub.status.idle": "2025-01-24T17:01:58.020396Z",
     "shell.execute_reply": "2025-01-24T17:01:58.019309Z"
    },
    "papermill": {
     "duration": 0.04603,
     "end_time": "2025-01-24T17:01:58.022274",
     "exception": false,
     "start_time": "2025-01-24T17:01:57.976244",
     "status": "completed"
    },
    "tags": []
   },
   "outputs": [],
   "source": [
    "\n",
    "# Align test dataset columns with train dataset\n",
    "test_df = test_df.reindex(columns=train_df.columns, fill_value=0)\n",
    "\n",
    "# Fill any remaining missing values with 0\n",
    "train_df.fillna(0, inplace=True)\n",
    "test_df.fillna(0, inplace=True)\n",
    "\n",
    "# Split features and target\n",
    "train_x = train_df.drop(columns=['customer_experience'])  # Features\n",
    "train_y = train_df['customer_experience']  # Target variable\n",
    "\n",
    "# Ensure test set doesn't contain the target column\n",
    "test_x = test_df.drop(columns=['customer_experience'], errors='ignore')\n",
    "\n",
    "\n"
   ]
  },
  {
   "cell_type": "code",
   "execution_count": 11,
   "id": "0611e5c1",
   "metadata": {
    "execution": {
     "iopub.execute_input": "2025-01-24T17:01:58.030805Z",
     "iopub.status.busy": "2025-01-24T17:01:58.030460Z",
     "iopub.status.idle": "2025-01-24T17:02:04.484806Z",
     "shell.execute_reply": "2025-01-24T17:02:04.483976Z"
    },
    "papermill": {
     "duration": 6.461278,
     "end_time": "2025-01-24T17:02:04.487319",
     "exception": false,
     "start_time": "2025-01-24T17:01:58.026041",
     "status": "completed"
    },
    "tags": []
   },
   "outputs": [
    {
     "data": {
      "text/html": [
       "<style>#sk-container-id-1 {color: black;background-color: white;}#sk-container-id-1 pre{padding: 0;}#sk-container-id-1 div.sk-toggleable {background-color: white;}#sk-container-id-1 label.sk-toggleable__label {cursor: pointer;display: block;width: 100%;margin-bottom: 0;padding: 0.3em;box-sizing: border-box;text-align: center;}#sk-container-id-1 label.sk-toggleable__label-arrow:before {content: \"▸\";float: left;margin-right: 0.25em;color: #696969;}#sk-container-id-1 label.sk-toggleable__label-arrow:hover:before {color: black;}#sk-container-id-1 div.sk-estimator:hover label.sk-toggleable__label-arrow:before {color: black;}#sk-container-id-1 div.sk-toggleable__content {max-height: 0;max-width: 0;overflow: hidden;text-align: left;background-color: #f0f8ff;}#sk-container-id-1 div.sk-toggleable__content pre {margin: 0.2em;color: black;border-radius: 0.25em;background-color: #f0f8ff;}#sk-container-id-1 input.sk-toggleable__control:checked~div.sk-toggleable__content {max-height: 200px;max-width: 100%;overflow: auto;}#sk-container-id-1 input.sk-toggleable__control:checked~label.sk-toggleable__label-arrow:before {content: \"▾\";}#sk-container-id-1 div.sk-estimator input.sk-toggleable__control:checked~label.sk-toggleable__label {background-color: #d4ebff;}#sk-container-id-1 div.sk-label input.sk-toggleable__control:checked~label.sk-toggleable__label {background-color: #d4ebff;}#sk-container-id-1 input.sk-hidden--visually {border: 0;clip: rect(1px 1px 1px 1px);clip: rect(1px, 1px, 1px, 1px);height: 1px;margin: -1px;overflow: hidden;padding: 0;position: absolute;width: 1px;}#sk-container-id-1 div.sk-estimator {font-family: monospace;background-color: #f0f8ff;border: 1px dotted black;border-radius: 0.25em;box-sizing: border-box;margin-bottom: 0.5em;}#sk-container-id-1 div.sk-estimator:hover {background-color: #d4ebff;}#sk-container-id-1 div.sk-parallel-item::after {content: \"\";width: 100%;border-bottom: 1px solid gray;flex-grow: 1;}#sk-container-id-1 div.sk-label:hover label.sk-toggleable__label {background-color: #d4ebff;}#sk-container-id-1 div.sk-serial::before {content: \"\";position: absolute;border-left: 1px solid gray;box-sizing: border-box;top: 0;bottom: 0;left: 50%;z-index: 0;}#sk-container-id-1 div.sk-serial {display: flex;flex-direction: column;align-items: center;background-color: white;padding-right: 0.2em;padding-left: 0.2em;position: relative;}#sk-container-id-1 div.sk-item {position: relative;z-index: 1;}#sk-container-id-1 div.sk-parallel {display: flex;align-items: stretch;justify-content: center;background-color: white;position: relative;}#sk-container-id-1 div.sk-item::before, #sk-container-id-1 div.sk-parallel-item::before {content: \"\";position: absolute;border-left: 1px solid gray;box-sizing: border-box;top: 0;bottom: 0;left: 50%;z-index: -1;}#sk-container-id-1 div.sk-parallel-item {display: flex;flex-direction: column;z-index: 1;position: relative;background-color: white;}#sk-container-id-1 div.sk-parallel-item:first-child::after {align-self: flex-end;width: 50%;}#sk-container-id-1 div.sk-parallel-item:last-child::after {align-self: flex-start;width: 50%;}#sk-container-id-1 div.sk-parallel-item:only-child::after {width: 0;}#sk-container-id-1 div.sk-dashed-wrapped {border: 1px dashed gray;margin: 0 0.4em 0.5em 0.4em;box-sizing: border-box;padding-bottom: 0.4em;background-color: white;}#sk-container-id-1 div.sk-label label {font-family: monospace;font-weight: bold;display: inline-block;line-height: 1.2em;}#sk-container-id-1 div.sk-label-container {text-align: center;}#sk-container-id-1 div.sk-container {/* jupyter's `normalize.less` sets `[hidden] { display: none; }` but bootstrap.min.css set `[hidden] { display: none !important; }` so we also need the `!important` here to be able to override the default hidden behavior on the sphinx rendered scikit-learn.org. See: https://github.com/scikit-learn/scikit-learn/issues/21755 */display: inline-block !important;position: relative;}#sk-container-id-1 div.sk-text-repr-fallback {display: none;}</style><div id=\"sk-container-id-1\" class=\"sk-top-container\"><div class=\"sk-text-repr-fallback\"><pre>XGBClassifier(base_score=None, booster=None, callbacks=None,\n",
       "              colsample_bylevel=None, colsample_bynode=None,\n",
       "              colsample_bytree=None, device=None, early_stopping_rounds=None,\n",
       "              enable_categorical=False, eval_metric=None, feature_types=None,\n",
       "              gamma=None, grow_policy=None, importance_type=None,\n",
       "              interaction_constraints=None, learning_rate=0.1, max_bin=None,\n",
       "              max_cat_threshold=None, max_cat_to_onehot=None,\n",
       "              max_delta_step=None, max_depth=None, max_leaves=None,\n",
       "              min_child_weight=None, missing=nan, monotone_constraints=None,\n",
       "              multi_strategy=None, n_estimators=100, n_jobs=None,\n",
       "              num_parallel_tree=None, objective=&#x27;multi:softprob&#x27;, ...)</pre><b>In a Jupyter environment, please rerun this cell to show the HTML representation or trust the notebook. <br />On GitHub, the HTML representation is unable to render, please try loading this page with nbviewer.org.</b></div><div class=\"sk-container\" hidden><div class=\"sk-item\"><div class=\"sk-estimator sk-toggleable\"><input class=\"sk-toggleable__control sk-hidden--visually\" id=\"sk-estimator-id-1\" type=\"checkbox\" checked><label for=\"sk-estimator-id-1\" class=\"sk-toggleable__label sk-toggleable__label-arrow\">XGBClassifier</label><div class=\"sk-toggleable__content\"><pre>XGBClassifier(base_score=None, booster=None, callbacks=None,\n",
       "              colsample_bylevel=None, colsample_bynode=None,\n",
       "              colsample_bytree=None, device=None, early_stopping_rounds=None,\n",
       "              enable_categorical=False, eval_metric=None, feature_types=None,\n",
       "              gamma=None, grow_policy=None, importance_type=None,\n",
       "              interaction_constraints=None, learning_rate=0.1, max_bin=None,\n",
       "              max_cat_threshold=None, max_cat_to_onehot=None,\n",
       "              max_delta_step=None, max_depth=None, max_leaves=None,\n",
       "              min_child_weight=None, missing=nan, monotone_constraints=None,\n",
       "              multi_strategy=None, n_estimators=100, n_jobs=None,\n",
       "              num_parallel_tree=None, objective=&#x27;multi:softprob&#x27;, ...)</pre></div></div></div></div></div>"
      ],
      "text/plain": [
       "XGBClassifier(base_score=None, booster=None, callbacks=None,\n",
       "              colsample_bylevel=None, colsample_bynode=None,\n",
       "              colsample_bytree=None, device=None, early_stopping_rounds=None,\n",
       "              enable_categorical=False, eval_metric=None, feature_types=None,\n",
       "              gamma=None, grow_policy=None, importance_type=None,\n",
       "              interaction_constraints=None, learning_rate=0.1, max_bin=None,\n",
       "              max_cat_threshold=None, max_cat_to_onehot=None,\n",
       "              max_delta_step=None, max_depth=None, max_leaves=None,\n",
       "              min_child_weight=None, missing=nan, monotone_constraints=None,\n",
       "              multi_strategy=None, n_estimators=100, n_jobs=None,\n",
       "              num_parallel_tree=None, objective='multi:softprob', ...)"
      ]
     },
     "execution_count": 11,
     "metadata": {},
     "output_type": "execute_result"
    }
   ],
   "source": [
    "xgb_classifier = XGBClassifier(n_estimators=100, learning_rate=0.1, random_state=0)\n",
    "xgb_classifier.fit(train_x, train_y)\n",
    "\n",
    "\n",
    "# model = RandomForestClassifier(random_state=42)\n",
    "# model.fit(train_x, train_y)\n",
    "\n",
    "# # Predict on test data\n",
    "# predictions = model.predict(test_x)"
   ]
  },
  {
   "cell_type": "code",
   "execution_count": 12,
   "id": "4669728d",
   "metadata": {
    "execution": {
     "iopub.execute_input": "2025-01-24T17:02:04.496754Z",
     "iopub.status.busy": "2025-01-24T17:02:04.496443Z",
     "iopub.status.idle": "2025-01-24T17:02:05.529745Z",
     "shell.execute_reply": "2025-01-24T17:02:05.528821Z"
    },
    "papermill": {
     "duration": 1.039752,
     "end_time": "2025-01-24T17:02:05.531472",
     "exception": false,
     "start_time": "2025-01-24T17:02:04.491720",
     "status": "completed"
    },
    "tags": []
   },
   "outputs": [],
   "source": [
    "predictions = xgb_classifier.predict(test_x)"
   ]
  },
  {
   "cell_type": "code",
   "execution_count": 13,
   "id": "3fbc627b",
   "metadata": {
    "execution": {
     "iopub.execute_input": "2025-01-24T17:02:05.542276Z",
     "iopub.status.busy": "2025-01-24T17:02:05.541960Z",
     "iopub.status.idle": "2025-01-24T17:02:05.548298Z",
     "shell.execute_reply": "2025-01-24T17:02:05.547479Z"
    },
    "papermill": {
     "duration": 0.013232,
     "end_time": "2025-01-24T17:02:05.549754",
     "exception": false,
     "start_time": "2025-01-24T17:02:05.536522",
     "status": "completed"
    },
    "tags": []
   },
   "outputs": [
    {
     "name": "stdout",
     "output_type": "stream",
     "text": [
      "Count of 0s: 81058\n",
      "Count of 1s: 50715\n",
      "Count of 2s: 6198\n"
     ]
    }
   ],
   "source": [
    "count_zeros = np.count_nonzero(predictions == 0)\n",
    "count_ones = np.count_nonzero(predictions == 1)\n",
    "count_twos = np.count_nonzero(predictions == 2)\n",
    "\n",
    "print(f\"Count of 0s: {count_zeros}\")  \n",
    "print(f\"Count of 1s: {count_ones}\")   \n",
    "print(f\"Count of 2s: {count_twos}\")"
   ]
  },
  {
   "cell_type": "code",
   "execution_count": 14,
   "id": "a7240add",
   "metadata": {
    "execution": {
     "iopub.execute_input": "2025-01-24T17:02:05.558512Z",
     "iopub.status.busy": "2025-01-24T17:02:05.558203Z",
     "iopub.status.idle": "2025-01-24T17:02:05.669582Z",
     "shell.execute_reply": "2025-01-24T17:02:05.668331Z"
    },
    "papermill": {
     "duration": 0.117291,
     "end_time": "2025-01-24T17:02:05.671142",
     "exception": false,
     "start_time": "2025-01-24T17:02:05.553851",
     "status": "completed"
    },
    "tags": []
   },
   "outputs": [
    {
     "name": "stdout",
     "output_type": "stream",
     "text": [
      "CSV file saved successfully!\n"
     ]
    }
   ],
   "source": [
    "# Convert predictions back to original labels for interpretation\n",
    "decoded_predictions = label_encoder.inverse_transform(predictions)\n",
    "\n",
    "\n",
    "# Export predictions if needed\n",
    "output = pd.DataFrame({ 'id': range(len(predictions)),\n",
    "    'customer_experience': decoded_predictions})\n",
    "# Save the DataFrame to a CSV file with the specified format\n",
    "output.to_csv('customer_satisfaction_predictions.csv', index=False)\n",
    "\n",
    "print(\"CSV file saved successfully!\")"
   ]
  },
  {
   "cell_type": "code",
   "execution_count": null,
   "id": "90a9d03a",
   "metadata": {
    "papermill": {
     "duration": 0.003637,
     "end_time": "2025-01-24T17:02:05.678959",
     "exception": false,
     "start_time": "2025-01-24T17:02:05.675322",
     "status": "completed"
    },
    "tags": []
   },
   "outputs": [],
   "source": []
  }
 ],
 "metadata": {
  "kaggle": {
   "accelerator": "none",
   "dataSources": [
    {
     "databundleVersionId": 10664448,
     "sourceId": 90922,
     "sourceType": "competition"
    }
   ],
   "dockerImageVersionId": 30839,
   "isGpuEnabled": false,
   "isInternetEnabled": false,
   "language": "python",
   "sourceType": "notebook"
  },
  "kernelspec": {
   "display_name": "Python 3",
   "language": "python",
   "name": "python3"
  },
  "language_info": {
   "codemirror_mode": {
    "name": "ipython",
    "version": 3
   },
   "file_extension": ".py",
   "mimetype": "text/x-python",
   "name": "python",
   "nbconvert_exporter": "python",
   "pygments_lexer": "ipython3",
   "version": "3.10.12"
  },
  "papermill": {
   "default_parameters": {},
   "duration": 18.872316,
   "end_time": "2025-01-24T17:02:06.402291",
   "environment_variables": {},
   "exception": null,
   "input_path": "__notebook__.ipynb",
   "output_path": "__notebook__.ipynb",
   "parameters": {},
   "start_time": "2025-01-24T17:01:47.529975",
   "version": "2.6.0"
  }
 },
 "nbformat": 4,
 "nbformat_minor": 5
}
